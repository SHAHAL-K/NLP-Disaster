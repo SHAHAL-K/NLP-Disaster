{
 "cells": [
  {
   "cell_type": "code",
   "execution_count": 3,
   "id": "5dc1d038",
   "metadata": {},
   "outputs": [],
   "source": [
    "import pandas as pd\n",
    "import numpy as np\n",
    "import seaborn as sns\n",
    "import matplotlib.pyplot as plt\n",
    "%matplotlib inline\n",
    "import warnings\n",
    "warnings.filterwarnings('ignore')"
   ]
  },
  {
   "cell_type": "code",
   "execution_count": 4,
   "id": "edf5d1bd",
   "metadata": {},
   "outputs": [],
   "source": [
    "data=pd.read_csv(r'D:\\opencv\\disaster prediction\\disaster prediction\\train.csv')"
   ]
  },
  {
   "cell_type": "code",
   "execution_count": 5,
   "id": "21868f64",
   "metadata": {},
   "outputs": [
    {
     "data": {
      "text/html": [
       "<div>\n",
       "<style scoped>\n",
       "    .dataframe tbody tr th:only-of-type {\n",
       "        vertical-align: middle;\n",
       "    }\n",
       "\n",
       "    .dataframe tbody tr th {\n",
       "        vertical-align: top;\n",
       "    }\n",
       "\n",
       "    .dataframe thead th {\n",
       "        text-align: right;\n",
       "    }\n",
       "</style>\n",
       "<table border=\"1\" class=\"dataframe\">\n",
       "  <thead>\n",
       "    <tr style=\"text-align: right;\">\n",
       "      <th></th>\n",
       "      <th>id</th>\n",
       "      <th>keyword</th>\n",
       "      <th>location</th>\n",
       "      <th>text</th>\n",
       "      <th>target</th>\n",
       "    </tr>\n",
       "  </thead>\n",
       "  <tbody>\n",
       "    <tr>\n",
       "      <th>0</th>\n",
       "      <td>1</td>\n",
       "      <td>NaN</td>\n",
       "      <td>NaN</td>\n",
       "      <td>Our Deeds are the Reason of this #earthquake M...</td>\n",
       "      <td>1</td>\n",
       "    </tr>\n",
       "    <tr>\n",
       "      <th>1</th>\n",
       "      <td>4</td>\n",
       "      <td>NaN</td>\n",
       "      <td>NaN</td>\n",
       "      <td>Forest fire near La Ronge Sask. Canada</td>\n",
       "      <td>1</td>\n",
       "    </tr>\n",
       "    <tr>\n",
       "      <th>2</th>\n",
       "      <td>5</td>\n",
       "      <td>NaN</td>\n",
       "      <td>NaN</td>\n",
       "      <td>All residents asked to 'shelter in place' are ...</td>\n",
       "      <td>1</td>\n",
       "    </tr>\n",
       "    <tr>\n",
       "      <th>3</th>\n",
       "      <td>6</td>\n",
       "      <td>NaN</td>\n",
       "      <td>NaN</td>\n",
       "      <td>13,000 people receive #wildfires evacuation or...</td>\n",
       "      <td>1</td>\n",
       "    </tr>\n",
       "    <tr>\n",
       "      <th>4</th>\n",
       "      <td>7</td>\n",
       "      <td>NaN</td>\n",
       "      <td>NaN</td>\n",
       "      <td>Just got sent this photo from Ruby #Alaska as ...</td>\n",
       "      <td>1</td>\n",
       "    </tr>\n",
       "  </tbody>\n",
       "</table>\n",
       "</div>"
      ],
      "text/plain": [
       "   id keyword location                                               text  \\\n",
       "0   1     NaN      NaN  Our Deeds are the Reason of this #earthquake M...   \n",
       "1   4     NaN      NaN             Forest fire near La Ronge Sask. Canada   \n",
       "2   5     NaN      NaN  All residents asked to 'shelter in place' are ...   \n",
       "3   6     NaN      NaN  13,000 people receive #wildfires evacuation or...   \n",
       "4   7     NaN      NaN  Just got sent this photo from Ruby #Alaska as ...   \n",
       "\n",
       "   target  \n",
       "0       1  \n",
       "1       1  \n",
       "2       1  \n",
       "3       1  \n",
       "4       1  "
      ]
     },
     "execution_count": 5,
     "metadata": {},
     "output_type": "execute_result"
    }
   ],
   "source": [
    "data.head()"
   ]
  },
  {
   "cell_type": "code",
   "execution_count": 6,
   "id": "21ab8382",
   "metadata": {},
   "outputs": [
    {
     "data": {
      "text/plain": [
       "id          7613\n",
       "keyword      221\n",
       "location    3341\n",
       "text        7503\n",
       "target         2\n",
       "dtype: int64"
      ]
     },
     "execution_count": 6,
     "metadata": {},
     "output_type": "execute_result"
    }
   ],
   "source": [
    "data.nunique()"
   ]
  },
  {
   "cell_type": "code",
   "execution_count": 7,
   "id": "4df3c4de",
   "metadata": {},
   "outputs": [
    {
     "data": {
      "text/plain": [
       "(7613, 5)"
      ]
     },
     "execution_count": 7,
     "metadata": {},
     "output_type": "execute_result"
    }
   ],
   "source": [
    "data.shape\n"
   ]
  },
  {
   "cell_type": "code",
   "execution_count": 8,
   "id": "77dfeff4",
   "metadata": {},
   "outputs": [
    {
     "data": {
      "text/plain": [
       "0"
      ]
     },
     "execution_count": 8,
     "metadata": {},
     "output_type": "execute_result"
    }
   ],
   "source": [
    "data.duplicated().sum()"
   ]
  },
  {
   "cell_type": "code",
   "execution_count": 9,
   "id": "ca75234a",
   "metadata": {},
   "outputs": [
    {
     "data": {
      "text/plain": [
       "(7613, 5)"
      ]
     },
     "execution_count": 9,
     "metadata": {},
     "output_type": "execute_result"
    }
   ],
   "source": [
    "data=data.drop_duplicates(keep='first',ignore_index=True)\n",
    "data.shape"
   ]
  },
  {
   "cell_type": "code",
   "execution_count": 10,
   "id": "805e7a79",
   "metadata": {},
   "outputs": [
    {
     "data": {
      "image/png": "[encoded data removed]",
      "text/plain": [
       "<Figure size 432x288 with 1 Axes>"
      ]
     },
     "metadata": {},
     "output_type": "display_data"
    }
   ],
   "source": [
    "plt.pie(data.target.value_counts().values[0:8],labels=data.target.value_counts().index[0:8],autopct='%1.1f%%', shadow=True, radius=1.6)\n",
    "plt.show()"
   ]
  },
  {
   "cell_type": "markdown",
   "id": "db1d7bd0",
   "metadata": {},
   "source": [
    "data is moderately well balanced "
   ]
  },
  {
   "cell_type": "code",
   "execution_count": 11,
   "id": "243b3862",
   "metadata": {},
   "outputs": [],
   "source": [
    "data.drop(data[['id','keyword','location']],axis=1,inplace=True)"
   ]
  },
  {
   "cell_type": "code",
   "execution_count": 12,
   "id": "e57c3c20",
   "metadata": {
    "scrolled": true
   },
   "outputs": [
    {
     "data": {
      "text/plain": [
       "0        69\n",
       "1        38\n",
       "2       133\n",
       "3        65\n",
       "4        88\n",
       "       ... \n",
       "7608     83\n",
       "7609    125\n",
       "7610     65\n",
       "7611    137\n",
       "7612     94\n",
       "Name: text, Length: 7613, dtype: int64"
      ]
     },
     "execution_count": 12,
     "metadata": {},
     "output_type": "execute_result"
    }
   ],
   "source": [
    "data.text.apply(len)"
   ]
  },
  {
   "cell_type": "markdown",
   "id": "a94e4296",
   "metadata": {},
   "source": [
    "### Feature creation "
   ]
  },
  {
   "cell_type": "markdown",
   "id": "6a5b8b98",
   "metadata": {},
   "source": [
    "length of text whether it's contributing to the prediction"
   ]
  },
  {
   "cell_type": "code",
   "execution_count": 13,
   "id": "de55d57a",
   "metadata": {},
   "outputs": [],
   "source": [
    "data['text_length']=data['text'].apply(lambda x: len(x)-x.count(\" \"))"
   ]
  },
  {
   "cell_type": "markdown",
   "id": "b88d33c7",
   "metadata": {},
   "source": [
    "punctuations whether it's contributing to the prediction"
   ]
  },
  {
   "cell_type": "code",
   "execution_count": 14,
   "id": "0426bc2a",
   "metadata": {},
   "outputs": [],
   "source": [
    "import string \n",
    "def count_punct(text):\n",
    "    count=sum([1 for char in text if char in string.punctuation])\n",
    "    return round(count/(len(text)-text.count(\" \")),3)*100\n",
    "data['text_punct']=data['text'].apply(lambda x: count_punct(x))    "
   ]
  },
  {
   "cell_type": "code",
   "execution_count": 15,
   "id": "b4384601",
   "metadata": {
    "scrolled": false
   },
   "outputs": [
    {
     "data": {
      "text/html": [
       "<div>\n",
       "<style scoped>\n",
       "    .dataframe tbody tr th:only-of-type {\n",
       "        vertical-align: middle;\n",
       "    }\n",
       "\n",
       "    .dataframe tbody tr th {\n",
       "        vertical-align: top;\n",
       "    }\n",
       "\n",
       "    .dataframe thead th {\n",
       "        text-align: right;\n",
       "    }\n",
       "</style>\n",
       "<table border=\"1\" class=\"dataframe\">\n",
       "  <thead>\n",
       "    <tr style=\"text-align: right;\">\n",
       "      <th></th>\n",
       "      <th>text</th>\n",
       "      <th>target</th>\n",
       "      <th>text_length</th>\n",
       "      <th>text_punct</th>\n",
       "    </tr>\n",
       "  </thead>\n",
       "  <tbody>\n",
       "    <tr>\n",
       "      <th>0</th>\n",
       "      <td>Our Deeds are the Reason of this #earthquake M...</td>\n",
       "      <td>1</td>\n",
       "      <td>57</td>\n",
       "      <td>1.8</td>\n",
       "    </tr>\n",
       "    <tr>\n",
       "      <th>1</th>\n",
       "      <td>Forest fire near La Ronge Sask. Canada</td>\n",
       "      <td>1</td>\n",
       "      <td>32</td>\n",
       "      <td>3.1</td>\n",
       "    </tr>\n",
       "    <tr>\n",
       "      <th>2</th>\n",
       "      <td>All residents asked to 'shelter in place' are ...</td>\n",
       "      <td>1</td>\n",
       "      <td>112</td>\n",
       "      <td>2.7</td>\n",
       "    </tr>\n",
       "    <tr>\n",
       "      <th>3</th>\n",
       "      <td>13,000 people receive #wildfires evacuation or...</td>\n",
       "      <td>1</td>\n",
       "      <td>57</td>\n",
       "      <td>3.5</td>\n",
       "    </tr>\n",
       "    <tr>\n",
       "      <th>4</th>\n",
       "      <td>Just got sent this photo from Ruby #Alaska as ...</td>\n",
       "      <td>1</td>\n",
       "      <td>72</td>\n",
       "      <td>2.8</td>\n",
       "    </tr>\n",
       "  </tbody>\n",
       "</table>\n",
       "</div>"
      ],
      "text/plain": [
       "                                                text  target  text_length  \\\n",
       "0  Our Deeds are the Reason of this #earthquake M...       1           57   \n",
       "1             Forest fire near La Ronge Sask. Canada       1           32   \n",
       "2  All residents asked to 'shelter in place' are ...       1          112   \n",
       "3  13,000 people receive #wildfires evacuation or...       1           57   \n",
       "4  Just got sent this photo from Ruby #Alaska as ...       1           72   \n",
       "\n",
       "   text_punct  \n",
       "0         1.8  \n",
       "1         3.1  \n",
       "2         2.7  \n",
       "3         3.5  \n",
       "4         2.8  "
      ]
     },
     "execution_count": 15,
     "metadata": {},
     "output_type": "execute_result"
    }
   ],
   "source": [
    "data.head()"
   ]
  },
  {
   "cell_type": "markdown",
   "id": "939e1e14",
   "metadata": {},
   "source": [
    "Evaluating how new features are contributing to the classification"
   ]
  },
  {
   "cell_type": "code",
   "execution_count": 16,
   "id": "f10a0cef",
   "metadata": {
    "scrolled": true
   },
   "outputs": [
    {
     "data": {
      "image/png": "[encoded data removed]",
      "text/plain": [
       "<Figure size 432x288 with 1 Axes>"
      ]
     },
     "metadata": {
      "needs_background": "light"
     },
     "output_type": "display_data"
    }
   ],
   "source": [
    "bins = np.linspace(0,100,10)\n",
    "plt.hist(data[data['target']==1]['text_length'],bins,alpha=0.5,label='disaster')\n",
    "plt.hist(data[data['target']==0]['text_length'],bins,alpha=0.5,label='non-disaster')\n",
    "plt.legend(loc='upper left')\n",
    "plt.show()"
   ]
  },
  {
   "cell_type": "markdown",
   "id": "fd28d158",
   "metadata": {},
   "source": [
    "lesser word length have lesser chance to be a disaster news "
   ]
  },
  {
   "cell_type": "code",
   "execution_count": 17,
   "id": "87e9cff2",
   "metadata": {
    "scrolled": true
   },
   "outputs": [
    {
     "data": {
      "image/png": "[encoded data removed]",
      "text/plain": [
       "<Figure size 432x288 with 1 Axes>"
      ]
     },
     "metadata": {
      "needs_background": "light"
     },
     "output_type": "display_data"
    }
   ],
   "source": [
    "bins = np.linspace(0,50,40)\n",
    "plt.hist(data[data['target']==1]['text_punct'],bins,alpha=0.5,label='disaster')\n",
    "plt.hist(data[data['target']==0]['text_punct'],bins,alpha=0.5,label='non-disaster')\n",
    "plt.legend(loc='upper left')\n",
    "plt.show()"
   ]
  },
  {
   "cell_type": "markdown",
   "id": "4df22074",
   "metadata": {},
   "source": [
    "As per our hypothesis this model  have lesser scope to be contribute to the final model "
   ]
  },
  {
   "cell_type": "markdown",
   "id": "b0b1461b",
   "metadata": {},
   "source": [
    "### lower casing"
   ]
  },
  {
   "cell_type": "code",
   "execution_count": 18,
   "id": "1dc7c034",
   "metadata": {},
   "outputs": [],
   "source": [
    "data['text']=data['text'].str.lower()"
   ]
  },
  {
   "cell_type": "markdown",
   "id": "0cd99e78",
   "metadata": {},
   "source": [
    "### regex to remove the html tags"
   ]
  },
  {
   "cell_type": "code",
   "execution_count": 19,
   "id": "6fcc7104",
   "metadata": {},
   "outputs": [],
   "source": [
    "import re\n",
    "def remove_html(text):\n",
    "    pattern=re.compile('<.#?>')\n",
    "    return pattern.sub(r'',text)\n",
    "data['text']=data['text'].apply(remove_html)"
   ]
  },
  {
   "cell_type": "code",
   "execution_count": 20,
   "id": "8a93d1c1",
   "metadata": {},
   "outputs": [
    {
     "data": {
      "text/plain": [
       "138"
      ]
     },
     "execution_count": 20,
     "metadata": {},
     "output_type": "execute_result"
    }
   ],
   "source": [
    "data.text_length.max()"
   ]
  },
  {
   "cell_type": "markdown",
   "id": "8b88bc0b",
   "metadata": {},
   "source": [
    "### remove punctuations"
   ]
  },
  {
   "cell_type": "code",
   "execution_count": 21,
   "id": "02fe4d90",
   "metadata": {},
   "outputs": [],
   "source": [
    "import string \n",
    "exclude=string.punctuation\n",
    "def remove_punct(text):\n",
    "    for i in exclude:\n",
    "        text=text.replace(i,'')\n",
    "    return text\n",
    "data['text']=data['text'].apply(remove_punct)"
   ]
  },
  {
   "cell_type": "markdown",
   "id": "1e56d7d5",
   "metadata": {},
   "source": [
    "### remove urls"
   ]
  },
  {
   "cell_type": "code",
   "execution_count": 22,
   "id": "a3a91f5b",
   "metadata": {},
   "outputs": [],
   "source": [
    "import re\n",
    "def remove_url(text):\n",
    "    return re.sub(r'https?:\\S*''','',text)\n",
    "data['text']=data['text'].apply(remove_url)"
   ]
  },
  {
   "cell_type": "code",
   "execution_count": 23,
   "id": "973e3b0b",
   "metadata": {},
   "outputs": [
    {
     "data": {
      "text/html": [
       "<div>\n",
       "<style scoped>\n",
       "    .dataframe tbody tr th:only-of-type {\n",
       "        vertical-align: middle;\n",
       "    }\n",
       "\n",
       "    .dataframe tbody tr th {\n",
       "        vertical-align: top;\n",
       "    }\n",
       "\n",
       "    .dataframe thead th {\n",
       "        text-align: right;\n",
       "    }\n",
       "</style>\n",
       "<table border=\"1\" class=\"dataframe\">\n",
       "  <thead>\n",
       "    <tr style=\"text-align: right;\">\n",
       "      <th></th>\n",
       "      <th>text</th>\n",
       "      <th>target</th>\n",
       "      <th>text_length</th>\n",
       "      <th>text_punct</th>\n",
       "    </tr>\n",
       "  </thead>\n",
       "  <tbody>\n",
       "    <tr>\n",
       "      <th>0</th>\n",
       "      <td>our deeds are the reason of this earthquake ma...</td>\n",
       "      <td>1</td>\n",
       "      <td>57</td>\n",
       "      <td>1.8</td>\n",
       "    </tr>\n",
       "    <tr>\n",
       "      <th>1</th>\n",
       "      <td>forest fire near la ronge sask canada</td>\n",
       "      <td>1</td>\n",
       "      <td>32</td>\n",
       "      <td>3.1</td>\n",
       "    </tr>\n",
       "    <tr>\n",
       "      <th>2</th>\n",
       "      <td>all residents asked to shelter in place are be...</td>\n",
       "      <td>1</td>\n",
       "      <td>112</td>\n",
       "      <td>2.7</td>\n",
       "    </tr>\n",
       "    <tr>\n",
       "      <th>3</th>\n",
       "      <td>13000 people receive wildfires evacuation orde...</td>\n",
       "      <td>1</td>\n",
       "      <td>57</td>\n",
       "      <td>3.5</td>\n",
       "    </tr>\n",
       "    <tr>\n",
       "      <th>4</th>\n",
       "      <td>just got sent this photo from ruby alaska as s...</td>\n",
       "      <td>1</td>\n",
       "      <td>72</td>\n",
       "      <td>2.8</td>\n",
       "    </tr>\n",
       "    <tr>\n",
       "      <th>...</th>\n",
       "      <td>...</td>\n",
       "      <td>...</td>\n",
       "      <td>...</td>\n",
       "      <td>...</td>\n",
       "    </tr>\n",
       "    <tr>\n",
       "      <th>7608</th>\n",
       "      <td>two giant cranes holding a bridge collapse int...</td>\n",
       "      <td>1</td>\n",
       "      <td>73</td>\n",
       "      <td>6.8</td>\n",
       "    </tr>\n",
       "    <tr>\n",
       "      <th>7609</th>\n",
       "      <td>ariaahrary thetawniest the out of control wild...</td>\n",
       "      <td>1</td>\n",
       "      <td>106</td>\n",
       "      <td>4.7</td>\n",
       "    </tr>\n",
       "    <tr>\n",
       "      <th>7610</th>\n",
       "      <td>m194 0104 utc5km s of volcano hawaii httptcozd...</td>\n",
       "      <td>1</td>\n",
       "      <td>58</td>\n",
       "      <td>19.0</td>\n",
       "    </tr>\n",
       "    <tr>\n",
       "      <th>7611</th>\n",
       "      <td>police investigating after an ebike collided w...</td>\n",
       "      <td>1</td>\n",
       "      <td>119</td>\n",
       "      <td>4.2</td>\n",
       "    </tr>\n",
       "    <tr>\n",
       "      <th>7612</th>\n",
       "      <td>the latest more homes razed by northern califo...</td>\n",
       "      <td>1</td>\n",
       "      <td>82</td>\n",
       "      <td>8.5</td>\n",
       "    </tr>\n",
       "  </tbody>\n",
       "</table>\n",
       "<p>7613 rows × 4 columns</p>\n",
       "</div>"
      ],
      "text/plain": [
       "                                                   text  target  text_length  \\\n",
       "0     our deeds are the reason of this earthquake ma...       1           57   \n",
       "1                 forest fire near la ronge sask canada       1           32   \n",
       "2     all residents asked to shelter in place are be...       1          112   \n",
       "3     13000 people receive wildfires evacuation orde...       1           57   \n",
       "4     just got sent this photo from ruby alaska as s...       1           72   \n",
       "...                                                 ...     ...          ...   \n",
       "7608  two giant cranes holding a bridge collapse int...       1           73   \n",
       "7609  ariaahrary thetawniest the out of control wild...       1          106   \n",
       "7610  m194 0104 utc5km s of volcano hawaii httptcozd...       1           58   \n",
       "7611  police investigating after an ebike collided w...       1          119   \n",
       "7612  the latest more homes razed by northern califo...       1           82   \n",
       "\n",
       "      text_punct  \n",
       "0            1.8  \n",
       "1            3.1  \n",
       "2            2.7  \n",
       "3            3.5  \n",
       "4            2.8  \n",
       "...          ...  \n",
       "7608         6.8  \n",
       "7609         4.7  \n",
       "7610        19.0  \n",
       "7611         4.2  \n",
       "7612         8.5  \n",
       "\n",
       "[7613 rows x 4 columns]"
      ]
     },
     "execution_count": 23,
     "metadata": {},
     "output_type": "execute_result"
    }
   ],
   "source": [
    "data"
   ]
  },
  {
   "cell_type": "markdown",
   "id": "e60de20d",
   "metadata": {},
   "source": [
    "### remove numbers and special characters"
   ]
  },
  {
   "cell_type": "code",
   "execution_count": 24,
   "id": "130b4ef6",
   "metadata": {},
   "outputs": [],
   "source": [
    "def remove_num(text):\n",
    "    pattern=r'[^a-zA-z.,!?/:;\\\"\\'\\s]'\n",
    "    return re.sub(pattern,'',text)\n",
    "data['text']=data['text'].apply(remove_num)"
   ]
  },
  {
   "cell_type": "code",
   "execution_count": 25,
   "id": "bd436a54",
   "metadata": {},
   "outputs": [],
   "source": [
    "import nltk"
   ]
  },
  {
   "cell_type": "markdown",
   "id": "f32cc976",
   "metadata": {},
   "source": [
    "### tokenize"
   ]
  },
  {
   "cell_type": "code",
   "execution_count": 26,
   "id": "26541e26",
   "metadata": {},
   "outputs": [],
   "source": [
    "data['text_token']=data['text'].apply(lambda x:nltk.word_tokenize(x))"
   ]
  },
  {
   "cell_type": "markdown",
   "id": "1ca9d3e1",
   "metadata": {},
   "source": [
    "### stop words"
   ]
  },
  {
   "cell_type": "code",
   "execution_count": 27,
   "id": "30ee004e",
   "metadata": {},
   "outputs": [
    {
     "data": {
      "text/plain": [
       "['i',\n",
       " 'me',\n",
       " 'my',\n",
       " 'myself',\n",
       " 'we',\n",
       " 'our',\n",
       " 'ours',\n",
       " 'ourselves',\n",
       " 'you',\n",
       " \"you're\",\n",
       " \"you've\",\n",
       " \"you'll\",\n",
       " \"you'd\",\n",
       " 'your',\n",
       " 'yours',\n",
       " 'yourself',\n",
       " 'yourselves',\n",
       " 'he',\n",
       " 'him',\n",
       " 'his',\n",
       " 'himself',\n",
       " 'she',\n",
       " \"she's\",\n",
       " 'her',\n",
       " 'hers',\n",
       " 'herself',\n",
       " 'it',\n",
       " \"it's\",\n",
       " 'its',\n",
       " 'itself',\n",
       " 'they',\n",
       " 'them',\n",
       " 'their',\n",
       " 'theirs',\n",
       " 'themselves',\n",
       " 'what',\n",
       " 'which',\n",
       " 'who',\n",
       " 'whom',\n",
       " 'this',\n",
       " 'that',\n",
       " \"that'll\",\n",
       " 'these',\n",
       " 'those',\n",
       " 'am',\n",
       " 'is',\n",
       " 'are',\n",
       " 'was',\n",
       " 'were',\n",
       " 'be',\n",
       " 'been',\n",
       " 'being',\n",
       " 'have',\n",
       " 'has',\n",
       " 'had',\n",
       " 'having',\n",
       " 'do',\n",
       " 'does',\n",
       " 'did',\n",
       " 'doing',\n",
       " 'a',\n",
       " 'an',\n",
       " 'the',\n",
       " 'and',\n",
       " 'but',\n",
       " 'if',\n",
       " 'or',\n",
       " 'because',\n",
       " 'as',\n",
       " 'until',\n",
       " 'while',\n",
       " 'of',\n",
       " 'at',\n",
       " 'by',\n",
       " 'for',\n",
       " 'with',\n",
       " 'about',\n",
       " 'against',\n",
       " 'between',\n",
       " 'into',\n",
       " 'through',\n",
       " 'during',\n",
       " 'before',\n",
       " 'after',\n",
       " 'above',\n",
       " 'below',\n",
       " 'to',\n",
       " 'from',\n",
       " 'up',\n",
       " 'down',\n",
       " 'in',\n",
       " 'out',\n",
       " 'on',\n",
       " 'off',\n",
       " 'over',\n",
       " 'under',\n",
       " 'again',\n",
       " 'further',\n",
       " 'then',\n",
       " 'once',\n",
       " 'here',\n",
       " 'there',\n",
       " 'when',\n",
       " 'where',\n",
       " 'why',\n",
       " 'how',\n",
       " 'all',\n",
       " 'any',\n",
       " 'both',\n",
       " 'each',\n",
       " 'few',\n",
       " 'more',\n",
       " 'most',\n",
       " 'other',\n",
       " 'some',\n",
       " 'such',\n",
       " 'no',\n",
       " 'nor',\n",
       " 'not',\n",
       " 'only',\n",
       " 'own',\n",
       " 'same',\n",
       " 'so',\n",
       " 'than',\n",
       " 'too',\n",
       " 'very',\n",
       " 's',\n",
       " 't',\n",
       " 'can',\n",
       " 'will',\n",
       " 'just',\n",
       " 'don',\n",
       " \"don't\",\n",
       " 'should',\n",
       " \"should've\",\n",
       " 'now',\n",
       " 'd',\n",
       " 'll',\n",
       " 'm',\n",
       " 'o',\n",
       " 're',\n",
       " 've',\n",
       " 'y',\n",
       " 'ain',\n",
       " 'aren',\n",
       " \"aren't\",\n",
       " 'couldn',\n",
       " \"couldn't\",\n",
       " 'didn',\n",
       " \"didn't\",\n",
       " 'doesn',\n",
       " \"doesn't\",\n",
       " 'hadn',\n",
       " \"hadn't\",\n",
       " 'hasn',\n",
       " \"hasn't\",\n",
       " 'haven',\n",
       " \"haven't\",\n",
       " 'isn',\n",
       " \"isn't\",\n",
       " 'ma',\n",
       " 'mightn',\n",
       " \"mightn't\",\n",
       " 'mustn',\n",
       " \"mustn't\",\n",
       " 'needn',\n",
       " \"needn't\",\n",
       " 'shan',\n",
       " \"shan't\",\n",
       " 'shouldn',\n",
       " \"shouldn't\",\n",
       " 'wasn',\n",
       " \"wasn't\",\n",
       " 'weren',\n",
       " \"weren't\",\n",
       " 'won',\n",
       " \"won't\",\n",
       " 'wouldn',\n",
       " \"wouldn't\"]"
      ]
     },
     "execution_count": 27,
     "metadata": {},
     "output_type": "execute_result"
    }
   ],
   "source": [
    "from nltk.corpus import stopwords\n",
    "stopwords.words('english')"
   ]
  },
  {
   "cell_type": "code",
   "execution_count": 28,
   "id": "97fa5d9b",
   "metadata": {},
   "outputs": [],
   "source": [
    "def stopword(text):\n",
    "    y=[]\n",
    "    for i in text:\n",
    "        if i not in stopwords.words('english'):\n",
    "            y.append(i)\n",
    "    return y\n",
    "data['text_token']=data['text_token'].apply(stopword)"
   ]
  },
  {
   "cell_type": "code",
   "execution_count": 29,
   "id": "b52b2010",
   "metadata": {},
   "outputs": [
    {
     "data": {
      "text/html": [
       "<div>\n",
       "<style scoped>\n",
       "    .dataframe tbody tr th:only-of-type {\n",
       "        vertical-align: middle;\n",
       "    }\n",
       "\n",
       "    .dataframe tbody tr th {\n",
       "        vertical-align: top;\n",
       "    }\n",
       "\n",
       "    .dataframe thead th {\n",
       "        text-align: right;\n",
       "    }\n",
       "</style>\n",
       "<table border=\"1\" class=\"dataframe\">\n",
       "  <thead>\n",
       "    <tr style=\"text-align: right;\">\n",
       "      <th></th>\n",
       "      <th>text</th>\n",
       "      <th>target</th>\n",
       "      <th>text_length</th>\n",
       "      <th>text_punct</th>\n",
       "      <th>text_token</th>\n",
       "    </tr>\n",
       "  </thead>\n",
       "  <tbody>\n",
       "    <tr>\n",
       "      <th>0</th>\n",
       "      <td>our deeds are the reason of this earthquake ma...</td>\n",
       "      <td>1</td>\n",
       "      <td>57</td>\n",
       "      <td>1.8</td>\n",
       "      <td>[deeds, reason, earthquake, may, allah, forgiv...</td>\n",
       "    </tr>\n",
       "    <tr>\n",
       "      <th>1</th>\n",
       "      <td>forest fire near la ronge sask canada</td>\n",
       "      <td>1</td>\n",
       "      <td>32</td>\n",
       "      <td>3.1</td>\n",
       "      <td>[forest, fire, near, la, ronge, sask, canada]</td>\n",
       "    </tr>\n",
       "    <tr>\n",
       "      <th>2</th>\n",
       "      <td>all residents asked to shelter in place are be...</td>\n",
       "      <td>1</td>\n",
       "      <td>112</td>\n",
       "      <td>2.7</td>\n",
       "      <td>[residents, asked, shelter, place, notified, o...</td>\n",
       "    </tr>\n",
       "    <tr>\n",
       "      <th>3</th>\n",
       "      <td>people receive wildfires evacuation orders in...</td>\n",
       "      <td>1</td>\n",
       "      <td>57</td>\n",
       "      <td>3.5</td>\n",
       "      <td>[people, receive, wildfires, evacuation, order...</td>\n",
       "    </tr>\n",
       "    <tr>\n",
       "      <th>4</th>\n",
       "      <td>just got sent this photo from ruby alaska as s...</td>\n",
       "      <td>1</td>\n",
       "      <td>72</td>\n",
       "      <td>2.8</td>\n",
       "      <td>[got, sent, photo, ruby, alaska, smoke, wildfi...</td>\n",
       "    </tr>\n",
       "    <tr>\n",
       "      <th>...</th>\n",
       "      <td>...</td>\n",
       "      <td>...</td>\n",
       "      <td>...</td>\n",
       "      <td>...</td>\n",
       "      <td>...</td>\n",
       "    </tr>\n",
       "    <tr>\n",
       "      <th>7608</th>\n",
       "      <td>two giant cranes holding a bridge collapse int...</td>\n",
       "      <td>1</td>\n",
       "      <td>73</td>\n",
       "      <td>6.8</td>\n",
       "      <td>[two, giant, cranes, holding, bridge, collapse...</td>\n",
       "    </tr>\n",
       "    <tr>\n",
       "      <th>7609</th>\n",
       "      <td>ariaahrary thetawniest the out of control wild...</td>\n",
       "      <td>1</td>\n",
       "      <td>106</td>\n",
       "      <td>4.7</td>\n",
       "      <td>[ariaahrary, thetawniest, control, wild, fires...</td>\n",
       "    </tr>\n",
       "    <tr>\n",
       "      <th>7610</th>\n",
       "      <td>m  utckm s of volcano hawaii httptcozdtoydebj</td>\n",
       "      <td>1</td>\n",
       "      <td>58</td>\n",
       "      <td>19.0</td>\n",
       "      <td>[utckm, volcano, hawaii, httptcozdtoydebj]</td>\n",
       "    </tr>\n",
       "    <tr>\n",
       "      <th>7611</th>\n",
       "      <td>police investigating after an ebike collided w...</td>\n",
       "      <td>1</td>\n",
       "      <td>119</td>\n",
       "      <td>4.2</td>\n",
       "      <td>[police, investigating, ebike, collided, car, ...</td>\n",
       "    </tr>\n",
       "    <tr>\n",
       "      <th>7612</th>\n",
       "      <td>the latest more homes razed by northern califo...</td>\n",
       "      <td>1</td>\n",
       "      <td>82</td>\n",
       "      <td>8.5</td>\n",
       "      <td>[latest, homes, razed, northern, california, w...</td>\n",
       "    </tr>\n",
       "  </tbody>\n",
       "</table>\n",
       "<p>7613 rows × 5 columns</p>\n",
       "</div>"
      ],
      "text/plain": [
       "                                                   text  target  text_length  \\\n",
       "0     our deeds are the reason of this earthquake ma...       1           57   \n",
       "1                 forest fire near la ronge sask canada       1           32   \n",
       "2     all residents asked to shelter in place are be...       1          112   \n",
       "3      people receive wildfires evacuation orders in...       1           57   \n",
       "4     just got sent this photo from ruby alaska as s...       1           72   \n",
       "...                                                 ...     ...          ...   \n",
       "7608  two giant cranes holding a bridge collapse int...       1           73   \n",
       "7609  ariaahrary thetawniest the out of control wild...       1          106   \n",
       "7610      m  utckm s of volcano hawaii httptcozdtoydebj       1           58   \n",
       "7611  police investigating after an ebike collided w...       1          119   \n",
       "7612  the latest more homes razed by northern califo...       1           82   \n",
       "\n",
       "      text_punct                                         text_token  \n",
       "0            1.8  [deeds, reason, earthquake, may, allah, forgiv...  \n",
       "1            3.1      [forest, fire, near, la, ronge, sask, canada]  \n",
       "2            2.7  [residents, asked, shelter, place, notified, o...  \n",
       "3            3.5  [people, receive, wildfires, evacuation, order...  \n",
       "4            2.8  [got, sent, photo, ruby, alaska, smoke, wildfi...  \n",
       "...          ...                                                ...  \n",
       "7608         6.8  [two, giant, cranes, holding, bridge, collapse...  \n",
       "7609         4.7  [ariaahrary, thetawniest, control, wild, fires...  \n",
       "7610        19.0         [utckm, volcano, hawaii, httptcozdtoydebj]  \n",
       "7611         4.2  [police, investigating, ebike, collided, car, ...  \n",
       "7612         8.5  [latest, homes, razed, northern, california, w...  \n",
       "\n",
       "[7613 rows x 5 columns]"
      ]
     },
     "execution_count": 29,
     "metadata": {},
     "output_type": "execute_result"
    }
   ],
   "source": [
    "data"
   ]
  },
  {
   "cell_type": "markdown",
   "id": "cae58c26",
   "metadata": {},
   "source": [
    "### stemming"
   ]
  },
  {
   "cell_type": "code",
   "execution_count": 30,
   "id": "c4db08cc",
   "metadata": {},
   "outputs": [],
   "source": [
    "from nltk.stem import PorterStemmer\n",
    "ps=PorterStemmer()\n",
    "def stemmer(text):\n",
    "    text=[ps.stem(word) for word in text]\n",
    "    return text\n",
    "data['text_token']=data['text_token'].apply(lambda x: stemmer(x))"
   ]
  },
  {
   "cell_type": "markdown",
   "id": "30ddcf6b",
   "metadata": {},
   "source": [
    "stemming is relatively faster than lemmatization , hence considering stemming"
   ]
  },
  {
   "cell_type": "code",
   "execution_count": 31,
   "id": "4802ddad",
   "metadata": {},
   "outputs": [
    {
     "data": {
      "text/html": [
       "<div>\n",
       "<style scoped>\n",
       "    .dataframe tbody tr th:only-of-type {\n",
       "        vertical-align: middle;\n",
       "    }\n",
       "\n",
       "    .dataframe tbody tr th {\n",
       "        vertical-align: top;\n",
       "    }\n",
       "\n",
       "    .dataframe thead th {\n",
       "        text-align: right;\n",
       "    }\n",
       "</style>\n",
       "<table border=\"1\" class=\"dataframe\">\n",
       "  <thead>\n",
       "    <tr style=\"text-align: right;\">\n",
       "      <th></th>\n",
       "      <th>text</th>\n",
       "      <th>target</th>\n",
       "      <th>text_length</th>\n",
       "      <th>text_punct</th>\n",
       "      <th>text_token</th>\n",
       "    </tr>\n",
       "  </thead>\n",
       "  <tbody>\n",
       "    <tr>\n",
       "      <th>0</th>\n",
       "      <td>our deeds are the reason of this earthquake ma...</td>\n",
       "      <td>1</td>\n",
       "      <td>57</td>\n",
       "      <td>1.8</td>\n",
       "      <td>[deed, reason, earthquak, may, allah, forgiv, us]</td>\n",
       "    </tr>\n",
       "    <tr>\n",
       "      <th>1</th>\n",
       "      <td>forest fire near la ronge sask canada</td>\n",
       "      <td>1</td>\n",
       "      <td>32</td>\n",
       "      <td>3.1</td>\n",
       "      <td>[forest, fire, near, la, rong, sask, canada]</td>\n",
       "    </tr>\n",
       "    <tr>\n",
       "      <th>2</th>\n",
       "      <td>all residents asked to shelter in place are be...</td>\n",
       "      <td>1</td>\n",
       "      <td>112</td>\n",
       "      <td>2.7</td>\n",
       "      <td>[resid, ask, shelter, place, notifi, offic, ev...</td>\n",
       "    </tr>\n",
       "    <tr>\n",
       "      <th>3</th>\n",
       "      <td>people receive wildfires evacuation orders in...</td>\n",
       "      <td>1</td>\n",
       "      <td>57</td>\n",
       "      <td>3.5</td>\n",
       "      <td>[peopl, receiv, wildfir, evacu, order, califor...</td>\n",
       "    </tr>\n",
       "    <tr>\n",
       "      <th>4</th>\n",
       "      <td>just got sent this photo from ruby alaska as s...</td>\n",
       "      <td>1</td>\n",
       "      <td>72</td>\n",
       "      <td>2.8</td>\n",
       "      <td>[got, sent, photo, rubi, alaska, smoke, wildfi...</td>\n",
       "    </tr>\n",
       "    <tr>\n",
       "      <th>...</th>\n",
       "      <td>...</td>\n",
       "      <td>...</td>\n",
       "      <td>...</td>\n",
       "      <td>...</td>\n",
       "      <td>...</td>\n",
       "    </tr>\n",
       "    <tr>\n",
       "      <th>7608</th>\n",
       "      <td>two giant cranes holding a bridge collapse int...</td>\n",
       "      <td>1</td>\n",
       "      <td>73</td>\n",
       "      <td>6.8</td>\n",
       "      <td>[two, giant, crane, hold, bridg, collaps, near...</td>\n",
       "    </tr>\n",
       "    <tr>\n",
       "      <th>7609</th>\n",
       "      <td>ariaahrary thetawniest the out of control wild...</td>\n",
       "      <td>1</td>\n",
       "      <td>106</td>\n",
       "      <td>4.7</td>\n",
       "      <td>[ariaahrari, thetawniest, control, wild, fire,...</td>\n",
       "    </tr>\n",
       "    <tr>\n",
       "      <th>7610</th>\n",
       "      <td>m  utckm s of volcano hawaii httptcozdtoydebj</td>\n",
       "      <td>1</td>\n",
       "      <td>58</td>\n",
       "      <td>19.0</td>\n",
       "      <td>[utckm, volcano, hawaii, httptcozdtoydebj]</td>\n",
       "    </tr>\n",
       "    <tr>\n",
       "      <th>7611</th>\n",
       "      <td>police investigating after an ebike collided w...</td>\n",
       "      <td>1</td>\n",
       "      <td>119</td>\n",
       "      <td>4.2</td>\n",
       "      <td>[polic, investig, ebik, collid, car, littl, po...</td>\n",
       "    </tr>\n",
       "    <tr>\n",
       "      <th>7612</th>\n",
       "      <td>the latest more homes razed by northern califo...</td>\n",
       "      <td>1</td>\n",
       "      <td>82</td>\n",
       "      <td>8.5</td>\n",
       "      <td>[latest, home, raze, northern, california, wil...</td>\n",
       "    </tr>\n",
       "  </tbody>\n",
       "</table>\n",
       "<p>7613 rows × 5 columns</p>\n",
       "</div>"
      ],
      "text/plain": [
       "                                                   text  target  text_length  \\\n",
       "0     our deeds are the reason of this earthquake ma...       1           57   \n",
       "1                 forest fire near la ronge sask canada       1           32   \n",
       "2     all residents asked to shelter in place are be...       1          112   \n",
       "3      people receive wildfires evacuation orders in...       1           57   \n",
       "4     just got sent this photo from ruby alaska as s...       1           72   \n",
       "...                                                 ...     ...          ...   \n",
       "7608  two giant cranes holding a bridge collapse int...       1           73   \n",
       "7609  ariaahrary thetawniest the out of control wild...       1          106   \n",
       "7610      m  utckm s of volcano hawaii httptcozdtoydebj       1           58   \n",
       "7611  police investigating after an ebike collided w...       1          119   \n",
       "7612  the latest more homes razed by northern califo...       1           82   \n",
       "\n",
       "      text_punct                                         text_token  \n",
       "0            1.8  [deed, reason, earthquak, may, allah, forgiv, us]  \n",
       "1            3.1       [forest, fire, near, la, rong, sask, canada]  \n",
       "2            2.7  [resid, ask, shelter, place, notifi, offic, ev...  \n",
       "3            3.5  [peopl, receiv, wildfir, evacu, order, califor...  \n",
       "4            2.8  [got, sent, photo, rubi, alaska, smoke, wildfi...  \n",
       "...          ...                                                ...  \n",
       "7608         6.8  [two, giant, crane, hold, bridg, collaps, near...  \n",
       "7609         4.7  [ariaahrari, thetawniest, control, wild, fire,...  \n",
       "7610        19.0         [utckm, volcano, hawaii, httptcozdtoydebj]  \n",
       "7611         4.2  [polic, investig, ebik, collid, car, littl, po...  \n",
       "7612         8.5  [latest, home, raze, northern, california, wil...  \n",
       "\n",
       "[7613 rows x 5 columns]"
      ]
     },
     "execution_count": 31,
     "metadata": {},
     "output_type": "execute_result"
    }
   ],
   "source": [
    "data"
   ]
  },
  {
   "cell_type": "code",
   "execution_count": 32,
   "id": "bf5f836a",
   "metadata": {},
   "outputs": [],
   "source": [
    "from wordcloud import WordCloud\n",
    "wc=WordCloud(width=300,height=300,min_font_size=10,background_color='white')"
   ]
  },
  {
   "cell_type": "code",
   "execution_count": 33,
   "id": "955155a9",
   "metadata": {},
   "outputs": [],
   "source": [
    "wc1 = wc.generate(data[data['target']==1]['text'].str.cat(sep=\" \"))"
   ]
  },
  {
   "cell_type": "code",
   "execution_count": 34,
   "id": "e930afdd",
   "metadata": {},
   "outputs": [
    {
     "data": {
      "text/plain": [
       "<matplotlib.image.AxesImage at 0x1b74df79940>"
      ]
     },
     "execution_count": 34,
     "metadata": {},
     "output_type": "execute_result"
    },
    {
     "data": {
      "image/png": "[encoded data removed]",
      "text/plain": [
       "<Figure size 432x288 with 1 Axes>"
      ]
     },
     "metadata": {
      "needs_background": "light"
     },
     "output_type": "display_data"
    }
   ],
   "source": [
    "plt.imshow(wc)"
   ]
  },
  {
   "cell_type": "code",
   "execution_count": 35,
   "id": "5f51da83",
   "metadata": {},
   "outputs": [],
   "source": [
    "wc2 = wc.generate(data[data['target']==0]['text'].str.cat(sep=\" \"))"
   ]
  },
  {
   "cell_type": "code",
   "execution_count": 36,
   "id": "9cb38647",
   "metadata": {},
   "outputs": [
    {
     "data": {
      "text/plain": [
       "<matplotlib.image.AxesImage at 0x1b7508e83a0>"
      ]
     },
     "execution_count": 36,
     "metadata": {},
     "output_type": "execute_result"
    },
    {
     "data": {
      "image/png": "[encoded data removed]",
      "text/plain": [
       "<Figure size 432x288 with 1 Axes>"
      ]
     },
     "metadata": {
      "needs_background": "light"
     },
     "output_type": "display_data"
    }
   ],
   "source": [
    "plt.imshow(wc2)"
   ]
  },
  {
   "cell_type": "code",
   "execution_count": 37,
   "id": "c1749e54",
   "metadata": {
    "scrolled": true
   },
   "outputs": [
    {
     "data": {
      "text/plain": [
       "count    7613.000000\n",
       "mean       87.108499\n",
       "std        29.151660\n",
       "min         6.000000\n",
       "25%        67.000000\n",
       "50%        92.000000\n",
       "75%       114.000000\n",
       "max       138.000000\n",
       "Name: text_length, dtype: float64"
      ]
     },
     "execution_count": 37,
     "metadata": {},
     "output_type": "execute_result"
    }
   ],
   "source": [
    "data['text_length'].describe()"
   ]
  },
  {
   "cell_type": "code",
   "execution_count": 38,
   "id": "e9f89afe",
   "metadata": {},
   "outputs": [],
   "source": [
    "#standard scaler\n",
    "from sklearn.preprocessing import StandardScaler\n",
    "scaler=StandardScaler()\n",
    "data['text_length']=scaler.fit_transform(data['text_length'].values.reshape(-1,1))"
   ]
  },
  {
   "cell_type": "markdown",
   "id": "72979dd0",
   "metadata": {},
   "source": [
    "### text vectorization "
   ]
  },
  {
   "cell_type": "markdown",
   "id": "6cbd240b",
   "metadata": {},
   "source": [
    "Count vectorization"
   ]
  },
  {
   "cell_type": "code",
   "execution_count": 39,
   "id": "1c9ed27b",
   "metadata": {},
   "outputs": [
    {
     "data": {
      "text/html": [
       "<div>\n",
       "<style scoped>\n",
       "    .dataframe tbody tr th:only-of-type {\n",
       "        vertical-align: middle;\n",
       "    }\n",
       "\n",
       "    .dataframe tbody tr th {\n",
       "        vertical-align: top;\n",
       "    }\n",
       "\n",
       "    .dataframe thead th {\n",
       "        text-align: right;\n",
       "    }\n",
       "</style>\n",
       "<table border=\"1\" class=\"dataframe\">\n",
       "  <thead>\n",
       "    <tr style=\"text-align: right;\">\n",
       "      <th></th>\n",
       "      <th>text</th>\n",
       "      <th>target</th>\n",
       "      <th>text_length</th>\n",
       "      <th>text_punct</th>\n",
       "      <th>text_token</th>\n",
       "    </tr>\n",
       "  </thead>\n",
       "  <tbody>\n",
       "    <tr>\n",
       "      <th>0</th>\n",
       "      <td>our deeds are the reason of this earthquake ma...</td>\n",
       "      <td>1</td>\n",
       "      <td>-1.032891</td>\n",
       "      <td>1.8</td>\n",
       "      <td>[deed, reason, earthquak, may, allah, forgiv, us]</td>\n",
       "    </tr>\n",
       "    <tr>\n",
       "      <th>1</th>\n",
       "      <td>forest fire near la ronge sask canada</td>\n",
       "      <td>1</td>\n",
       "      <td>-1.890531</td>\n",
       "      <td>3.1</td>\n",
       "      <td>[forest, fire, near, la, rong, sask, canada]</td>\n",
       "    </tr>\n",
       "    <tr>\n",
       "      <th>2</th>\n",
       "      <td>all residents asked to shelter in place are be...</td>\n",
       "      <td>1</td>\n",
       "      <td>0.853918</td>\n",
       "      <td>2.7</td>\n",
       "      <td>[resid, ask, shelter, place, notifi, offic, ev...</td>\n",
       "    </tr>\n",
       "    <tr>\n",
       "      <th>3</th>\n",
       "      <td>people receive wildfires evacuation orders in...</td>\n",
       "      <td>1</td>\n",
       "      <td>-1.032891</td>\n",
       "      <td>3.5</td>\n",
       "      <td>[peopl, receiv, wildfir, evacu, order, califor...</td>\n",
       "    </tr>\n",
       "    <tr>\n",
       "      <th>4</th>\n",
       "      <td>just got sent this photo from ruby alaska as s...</td>\n",
       "      <td>1</td>\n",
       "      <td>-0.518306</td>\n",
       "      <td>2.8</td>\n",
       "      <td>[got, sent, photo, rubi, alaska, smoke, wildfi...</td>\n",
       "    </tr>\n",
       "    <tr>\n",
       "      <th>...</th>\n",
       "      <td>...</td>\n",
       "      <td>...</td>\n",
       "      <td>...</td>\n",
       "      <td>...</td>\n",
       "      <td>...</td>\n",
       "    </tr>\n",
       "    <tr>\n",
       "      <th>7608</th>\n",
       "      <td>two giant cranes holding a bridge collapse int...</td>\n",
       "      <td>1</td>\n",
       "      <td>-0.484001</td>\n",
       "      <td>6.8</td>\n",
       "      <td>[two, giant, crane, hold, bridg, collaps, near...</td>\n",
       "    </tr>\n",
       "    <tr>\n",
       "      <th>7609</th>\n",
       "      <td>ariaahrary thetawniest the out of control wild...</td>\n",
       "      <td>1</td>\n",
       "      <td>0.648085</td>\n",
       "      <td>4.7</td>\n",
       "      <td>[ariaahrari, thetawniest, control, wild, fire,...</td>\n",
       "    </tr>\n",
       "    <tr>\n",
       "      <th>7610</th>\n",
       "      <td>m  utckm s of volcano hawaii httptcozdtoydebj</td>\n",
       "      <td>1</td>\n",
       "      <td>-0.998585</td>\n",
       "      <td>19.0</td>\n",
       "      <td>[utckm, volcano, hawaii, httptcozdtoydebj]</td>\n",
       "    </tr>\n",
       "    <tr>\n",
       "      <th>7611</th>\n",
       "      <td>police investigating after an ebike collided w...</td>\n",
       "      <td>1</td>\n",
       "      <td>1.094058</td>\n",
       "      <td>4.2</td>\n",
       "      <td>[polic, investig, ebik, collid, car, littl, po...</td>\n",
       "    </tr>\n",
       "    <tr>\n",
       "      <th>7612</th>\n",
       "      <td>the latest more homes razed by northern califo...</td>\n",
       "      <td>1</td>\n",
       "      <td>-0.175250</td>\n",
       "      <td>8.5</td>\n",
       "      <td>[latest, home, raze, northern, california, wil...</td>\n",
       "    </tr>\n",
       "  </tbody>\n",
       "</table>\n",
       "<p>7613 rows × 5 columns</p>\n",
       "</div>"
      ],
      "text/plain": [
       "                                                   text  target  text_length  \\\n",
       "0     our deeds are the reason of this earthquake ma...       1    -1.032891   \n",
       "1                 forest fire near la ronge sask canada       1    -1.890531   \n",
       "2     all residents asked to shelter in place are be...       1     0.853918   \n",
       "3      people receive wildfires evacuation orders in...       1    -1.032891   \n",
       "4     just got sent this photo from ruby alaska as s...       1    -0.518306   \n",
       "...                                                 ...     ...          ...   \n",
       "7608  two giant cranes holding a bridge collapse int...       1    -0.484001   \n",
       "7609  ariaahrary thetawniest the out of control wild...       1     0.648085   \n",
       "7610      m  utckm s of volcano hawaii httptcozdtoydebj       1    -0.998585   \n",
       "7611  police investigating after an ebike collided w...       1     1.094058   \n",
       "7612  the latest more homes razed by northern califo...       1    -0.175250   \n",
       "\n",
       "      text_punct                                         text_token  \n",
       "0            1.8  [deed, reason, earthquak, may, allah, forgiv, us]  \n",
       "1            3.1       [forest, fire, near, la, rong, sask, canada]  \n",
       "2            2.7  [resid, ask, shelter, place, notifi, offic, ev...  \n",
       "3            3.5  [peopl, receiv, wildfir, evacu, order, califor...  \n",
       "4            2.8  [got, sent, photo, rubi, alaska, smoke, wildfi...  \n",
       "...          ...                                                ...  \n",
       "7608         6.8  [two, giant, crane, hold, bridg, collaps, near...  \n",
       "7609         4.7  [ariaahrari, thetawniest, control, wild, fire,...  \n",
       "7610        19.0         [utckm, volcano, hawaii, httptcozdtoydebj]  \n",
       "7611         4.2  [polic, investig, ebik, collid, car, littl, po...  \n",
       "7612         8.5  [latest, home, raze, northern, california, wil...  \n",
       "\n",
       "[7613 rows x 5 columns]"
      ]
     },
     "execution_count": 39,
     "metadata": {},
     "output_type": "execute_result"
    }
   ],
   "source": [
    "data"
   ]
  },
  {
   "cell_type": "code",
   "execution_count": 40,
   "id": "4e89ef91",
   "metadata": {
    "scrolled": true
   },
   "outputs": [
    {
     "name": "stdout",
     "output_type": "stream",
     "text": [
      "(7613, 4140)\n",
      "['abusing', 'ac', 'acc', 'accept', 'accidentally', 'accionempresa', 'accounts', 'accused', 'accuses', 'accustomed', 'acdelco', 'achimota', 'acid', 'acoustic', 'acquire']\n"
     ]
    }
   ],
   "source": [
    "from sklearn.feature_extraction.text import CountVectorizer\n",
    "Countvec=CountVectorizer(min_df=2,max_df=5)\n",
    "x_counts=Countvec.fit_transform(data['text'])\n",
    "print(x_counts.shape)\n",
    "print(Countvec.get_feature_names()[15:30])"
   ]
  },
  {
   "cell_type": "markdown",
   "id": "744690ae",
   "metadata": {},
   "source": [
    "TF-IDF Method"
   ]
  },
  {
   "cell_type": "code",
   "execution_count": 41,
   "id": "bca63aae",
   "metadata": {},
   "outputs": [
    {
     "name": "stdout",
     "output_type": "stream",
     "text": [
      "(7613, 21683)\n",
      "[8.55144958 8.55144958 8.14598447 ... 8.83913165 8.83913165 8.83913165]\n",
      "['abia', 'ability', 'ability to', 'ablaze amp', 'ablaze and', 'ablaze in', 'ablaze in california', 'ablaze in california alone', 'abomb', 'abomination', 'abomination that', 'abomination that maketh', 'abomination that maketh desolate', 'abortion', 'about cable']\n"
     ]
    }
   ],
   "source": [
    "from sklearn.feature_extraction.text import TfidfVectorizer\n",
    "tfidf=TfidfVectorizer(ngram_range=(1,4),min_df=2,max_df=5)\n",
    "x_tf=tfidf.fit_transform(data['text'])\n",
    "print(x_tf.shape)\n",
    "print(tfidf.idf_)\n",
    "print(tfidf.get_feature_names()[15:30])"
   ]
  },
  {
   "cell_type": "markdown",
   "id": "bf162898",
   "metadata": {},
   "source": [
    "### Model creation"
   ]
  },
  {
   "cell_type": "code",
   "execution_count": 56,
   "id": "6543992a",
   "metadata": {},
   "outputs": [],
   "source": [
    "data2=pd.concat([data['text_length'],data['target'],pd.DataFrame(x_tf.toarray())],axis=1)\n",
    "tfidf=pd.DataFrame(x_tf.toarray())"
   ]
  },
  {
   "cell_type": "code",
   "execution_count": 43,
   "id": "e0449fc1",
   "metadata": {},
   "outputs": [],
   "source": [
    "from sklearn.model_selection import train_test_split\n",
    "x_train,x_test,y_train,y_test=train_test_split(data2.drop(data[['target','text_length']],axis=1),data2['target'],test_size=0.3,random_state=42)"
   ]
  },
  {
   "cell_type": "code",
   "execution_count": 44,
   "id": "ccb94fe5",
   "metadata": {},
   "outputs": [
    {
     "name": "stdout",
     "output_type": "stream",
     "text": [
      "accuracy score 0.623029772329247\n",
      "precision 0.7950310559006211 -------- recall0.7950310559006211 \n"
     ]
    }
   ],
   "source": [
    "from sklearn.ensemble import RandomForestClassifier\n",
    "from sklearn.metrics import precision_score,recall_score\n",
    "from sklearn.metrics import accuracy_score\n",
    "rf=RandomForestClassifier()\n",
    "rf.fit(x_train,y_train)\n",
    "y_pred=rf.predict(x_test)\n",
    "print(\"accuracy score\", accuracy_score(y_pred,y_test))\n",
    "print('precision {} -------- recall{} '.format(precision_score(y_pred,y_test),recall_score(y_test,y_pred)))"
   ]
  },
  {
   "cell_type": "code",
   "execution_count": 45,
   "id": "29f0eabe",
   "metadata": {},
   "outputs": [
    {
     "name": "stdout",
     "output_type": "stream",
     "text": [
      "              precision    recall  f1-score   support\n",
      "\n",
      "           0       0.50      0.77      0.60       853\n",
      "           1       0.80      0.54      0.64      1431\n",
      "\n",
      "    accuracy                           0.62      2284\n",
      "   macro avg       0.65      0.65      0.62      2284\n",
      "weighted avg       0.68      0.62      0.63      2284\n",
      "\n",
      "[[655 198]\n",
      " [663 768]]\n"
     ]
    }
   ],
   "source": [
    "from sklearn.metrics import classification_report,confusion_matrix\n",
    "print(classification_report(y_pred,y_test))\n",
    "print(confusion_matrix(y_pred,y_test))"
   ]
  },
  {
   "cell_type": "code",
   "execution_count": 46,
   "id": "e4f68ab9",
   "metadata": {},
   "outputs": [],
   "source": [
    "from sklearn.model_selection import StratifiedKFold,cross_val_score\n",
    "strat=StratifiedKFold(n_splits=5)\n",
    "result=cross_val_score(rf,data2.drop(data[['target','text_length']],axis=1),data2['target'],cv=strat)"
   ]
  },
  {
   "cell_type": "code",
   "execution_count": 47,
   "id": "d727b660",
   "metadata": {
    "scrolled": false
   },
   "outputs": [
    {
     "data": {
      "text/plain": [
       "0.5598349616006171"
      ]
     },
     "execution_count": 47,
     "metadata": {},
     "output_type": "execute_result"
    }
   ],
   "source": [
    "np.mean(result)"
   ]
  },
  {
   "cell_type": "code",
   "execution_count": 48,
   "id": "eb21282e",
   "metadata": {
    "scrolled": true
   },
   "outputs": [
    {
     "name": "stdout",
     "output_type": "stream",
     "text": [
      "accuracy score 0.6182136602451839\n",
      "precision 0.8115942028985508 -------- recall0.8115942028985508 \n"
     ]
    }
   ],
   "source": [
    "rf=RandomForestClassifier(n_estimators=10,max_depth=None)\n",
    "rf.fit(x_train,y_train)\n",
    "y_pred=rf.predict(x_test)\n",
    "print(\"accuracy score\", accuracy_score(y_pred,y_test))\n",
    "print('precision {} -------- recall{} '.format(precision_score(y_pred,y_test),recall_score(y_test,y_pred)))"
   ]
  },
  {
   "cell_type": "code",
   "execution_count": null,
   "id": "1a50264d",
   "metadata": {},
   "outputs": [],
   "source": [
    "'''from sklearn.model_selection import GridSearchCV\n",
    "param={'n_estimators':[10,150,300],\n",
    "       'max_depth':[30,60,90,None]\n",
    "    }\n",
    "gv=GridSearchCV(rf,param,cv=5,n_jobs=-1)\n",
    "gv.fit(data2.drop(data[['target','text_length']],axis=1),data2['target'])\n",
    "pd.DataFrame((gv.fit.cv_results_).sort_values('mean_test_score'),ascending=False[0:5])'''"
   ]
  },
  {
   "cell_type": "markdown",
   "id": "e64bb361",
   "metadata": {},
   "source": [
    "Dropped text_length : which is making the model overfiiting .(accuracy_score = 0.99998)"
   ]
  },
  {
   "cell_type": "markdown",
   "id": "8a084c15",
   "metadata": {},
   "source": [
    "TF - IDF gives better recall than countvectorizer . Hence selecting TFIDF"
   ]
  },
  {
   "cell_type": "markdown",
   "id": "3cb9756b",
   "metadata": {},
   "source": [
    "Random forest shows better recall and precision than other models "
   ]
  },
  {
   "cell_type": "code",
   "execution_count": 49,
   "id": "14ba2da3",
   "metadata": {},
   "outputs": [],
   "source": [
    "from sklearn.naive_bayes import GaussianNB\n",
    "from sklearn.metrics import precision_score,recall_score\n",
    "from sklearn.metrics import accuracy_score\n",
    "gb=GaussianNB()\n",
    "gb.fit(x_train,y_train)\n",
    "y_pred=gb.predict(x_test)"
   ]
  },
  {
   "cell_type": "code",
   "execution_count": 50,
   "id": "854fb322",
   "metadata": {},
   "outputs": [
    {
     "name": "stdout",
     "output_type": "stream",
     "text": [
      "accuracy score 0.6799474605954466\n",
      "precision 0.5341614906832298 -------- recall0.5341614906832298 \n"
     ]
    }
   ],
   "source": [
    "print(\"accuracy score\", accuracy_score(y_pred,y_test))\n",
    "print('precision {} -------- recall{} '.format(precision_score(y_pred,y_test),recall_score(y_test,y_pred)))"
   ]
  },
  {
   "cell_type": "code",
   "execution_count": 140,
   "id": "14e0ba31",
   "metadata": {},
   "outputs": [
    {
     "name": "stdout",
     "output_type": "stream",
     "text": [
      "              precision    recall  f1-score   support\n",
      "\n",
      "           0       0.87      0.66      0.75      1752\n",
      "           1       0.38      0.68      0.48       532\n",
      "\n",
      "    accuracy                           0.66      2284\n",
      "   macro avg       0.62      0.67      0.62      2284\n",
      "weighted avg       0.76      0.66      0.69      2284\n",
      "\n",
      "[[1149  603]\n",
      " [ 169  363]]\n"
     ]
    }
   ],
   "source": [
    "from sklearn import svm\n",
    "sv=svm.SVC()\n",
    "sv.fit(x_train,y_train)\n",
    "y_pred=sv.predict(x_test)\n",
    "print(classification_report(y_pred,y_test))\n",
    "print(confusion_matrix(y_pred,y_test))"
   ]
  },
  {
   "cell_type": "code",
   "execution_count": 144,
   "id": "78fe128d",
   "metadata": {},
   "outputs": [
    {
     "name": "stdout",
     "output_type": "stream",
     "text": [
      "accuracy score 0.6799474605954466\n",
      "precision 0.5341614906832298 -------- recall0.5341614906832298 \n"
     ]
    }
   ],
   "source": [
    "print(\"accuracy score\", accuracy_score(y_pred,y_test))\n",
    "print('precision {} -------- recall{} '.format(precision_score(y_pred,y_test),recall_score(y_test,y_pred)))"
   ]
  },
  {
   "cell_type": "markdown",
   "id": "14b304a6",
   "metadata": {},
   "source": [
    "Random forest gives best results for the model in case of precision and recall than other model"
   ]
  },
  {
   "cell_type": "code",
   "execution_count": 61,
   "id": "9cc3b0b0",
   "metadata": {},
   "outputs": [],
   "source": [
    "import pickle \n",
    "pickle.dump(x_tf,open('vectorizer.pkl','wb'))\n",
    "pickle.dump(rf,open('model.pkl','wb'))"
   ]
  },
  {
   "cell_type": "code",
   "execution_count": null,
   "id": "bf2e005e",
   "metadata": {},
   "outputs": [],
   "source": []
  }
 ],
 "metadata": {
  "kernelspec": {
   "display_name": "Python 3 (ipykernel)",
   "language": "python",
   "name": "python3"
  },
  "language_info": {
   "codemirror_mode": {
    "name": "ipython",
    "version": 3
   },
   "file_extension": ".py",
   "mimetype": "text/x-python",
   "name": "python",
   "nbconvert_exporter": "python",
   "pygments_lexer": "ipython3",
   "version": "3.9.7"
  }
 },
 "nbformat": 4,
 "nbformat_minor": 5
}
